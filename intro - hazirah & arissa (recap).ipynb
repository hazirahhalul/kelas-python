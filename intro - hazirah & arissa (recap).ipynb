{
 "cells": [
  {
   "cell_type": "markdown",
   "id": "799c0d68",
   "metadata": {},
   "source": [
    "# Keluarga Saya (Header 1)\n",
    "\n",
    "## Saya ada 12 orang sepupu (Header 2)\n",
    "\n",
    "### tiga hashtag\n",
    "\n",
    "Nasi goreng sedap (tulis biasa)\n",
    "tulis apa awk nak tulis\n",
    "1. saya suka warna biru (tulis ikut no)\n",
    "2. arissa suka warna merah\n",
    "3. milo sedap\n"
   ]
  },
  {
   "cell_type": "markdown",
   "id": "6450f5aa",
   "metadata": {},
   "source": [
    "# Introduction Markdown & Code\n",
    "## Project 1\n",
    "by Hazirah & Arissa"
   ]
  },
  {
   "cell_type": "code",
   "execution_count": 1,
   "id": "f13a7366",
   "metadata": {},
   "outputs": [
    {
     "name": "stdout",
     "output_type": "stream",
     "text": [
      "Arissa\n"
     ]
    }
   ],
   "source": [
    "# utk code,kita tulis input, dia bagi output\n",
    "print('Arissa')"
   ]
  },
  {
   "cell_type": "markdown",
   "id": "cd88cca3",
   "metadata": {},
   "source": [
    "## 1. Matematik asas"
   ]
  },
  {
   "cell_type": "code",
   "execution_count": 15,
   "id": "8fb95230",
   "metadata": {},
   "outputs": [
    {
     "data": {
      "text/plain": [
       "27"
      ]
     },
     "execution_count": 15,
     "metadata": {},
     "output_type": "execute_result"
    }
   ],
   "source": [
    "24+3 # tambah"
   ]
  },
  {
   "cell_type": "code",
   "execution_count": 3,
   "id": "789bd557",
   "metadata": {},
   "outputs": [
    {
     "data": {
      "text/plain": [
       "36"
      ]
     },
     "execution_count": 3,
     "metadata": {},
     "output_type": "execute_result"
    }
   ],
   "source": [
    "90-54 # tolak"
   ]
  },
  {
   "cell_type": "code",
   "execution_count": 4,
   "id": "e8d17e70",
   "metadata": {},
   "outputs": [
    {
     "data": {
      "text/plain": [
       "1996"
      ]
     },
     "execution_count": 4,
     "metadata": {},
     "output_type": "execute_result"
    }
   ],
   "source": [
    "1*1996 # darab * ********* ingt!"
   ]
  },
  {
   "cell_type": "code",
   "execution_count": 5,
   "id": "60933351",
   "metadata": {},
   "outputs": [
    {
     "data": {
      "text/plain": [
       "4.0"
      ]
     },
     "execution_count": 5,
     "metadata": {},
     "output_type": "execute_result"
    }
   ],
   "source": [
    "60/15 # bahagi"
   ]
  },
  {
   "cell_type": "code",
   "execution_count": 7,
   "id": "77eb43a0",
   "metadata": {},
   "outputs": [
    {
     "data": {
      "text/plain": [
       "363"
      ]
     },
     "execution_count": 7,
     "metadata": {},
     "output_type": "execute_result"
    }
   ],
   "source": [
    "23+68*5"
   ]
  },
  {
   "cell_type": "markdown",
   "id": "4aa1422f",
   "metadata": {},
   "source": [
    "## 2. Variable"
   ]
  },
  {
   "cell_type": "code",
   "execution_count": 16,
   "id": "6a814af9",
   "metadata": {},
   "outputs": [],
   "source": [
    "# bagi variable, setiap perkataan = string\n",
    "# setiap nombor = integer\n",
    "nama = 'Arissa binti Arif'\n",
    "umur = 10\n",
    "hobi = 'lukis'\n",
    "kelas = '4 topaz'"
   ]
  },
  {
   "cell_type": "code",
   "execution_count": 10,
   "id": "178d7c40",
   "metadata": {},
   "outputs": [
    {
     "data": {
      "text/plain": [
       "'Arissa binti Arif'"
      ]
     },
     "execution_count": 10,
     "metadata": {},
     "output_type": "execute_result"
    }
   ],
   "source": [
    "nama"
   ]
  },
  {
   "cell_type": "code",
   "execution_count": 11,
   "id": "ab438227",
   "metadata": {},
   "outputs": [
    {
     "name": "stdout",
     "output_type": "stream",
     "text": [
      "Arissa binti Arif, 10, 4 topaz\n"
     ]
    }
   ],
   "source": [
    "print(nama+', '+str(umur)+\", \"+kelas)"
   ]
  },
  {
   "cell_type": "code",
   "execution_count": 12,
   "id": "b4ca9cfb",
   "metadata": {},
   "outputs": [
    {
     "name": "stdout",
     "output_type": "stream",
     "text": [
      "Hobi Arissa binti Arif ialah lukis\n"
     ]
    }
   ],
   "source": [
    "print('Hobi '+nama+' ialah '+hobi)"
   ]
  },
  {
   "cell_type": "code",
   "execution_count": 13,
   "id": "2f7ed692",
   "metadata": {},
   "outputs": [
    {
     "data": {
      "text/plain": [
       "str"
      ]
     },
     "execution_count": 13,
     "metadata": {},
     "output_type": "execute_result"
    }
   ],
   "source": [
    "type(nama)"
   ]
  },
  {
   "cell_type": "code",
   "execution_count": 14,
   "id": "ddb5a9ad",
   "metadata": {},
   "outputs": [
    {
     "data": {
      "text/plain": [
       "int"
      ]
     },
     "execution_count": 14,
     "metadata": {},
     "output_type": "execute_result"
    }
   ],
   "source": [
    "type(umur)"
   ]
  },
  {
   "cell_type": "code",
   "execution_count": null,
   "id": "b63d25b4",
   "metadata": {},
   "outputs": [],
   "source": []
  }
 ],
 "metadata": {
  "kernelspec": {
   "display_name": "Python 3 (ipykernel)",
   "language": "python",
   "name": "python3"
  },
  "language_info": {
   "codemirror_mode": {
    "name": "ipython",
    "version": 3
   },
   "file_extension": ".py",
   "mimetype": "text/x-python",
   "name": "python",
   "nbconvert_exporter": "python",
   "pygments_lexer": "ipython3",
   "version": "3.8.8"
  }
 },
 "nbformat": 4,
 "nbformat_minor": 5
}
