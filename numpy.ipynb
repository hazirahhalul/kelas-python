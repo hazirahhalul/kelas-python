{
 "cells": [
  {
   "cell_type": "markdown",
   "id": "bc144b0d",
   "metadata": {},
   "source": [
    "# hArI NI kITA baKaL bElaJAr mATEMATik/SainS\n",
    "by Balqis\n"
   ]
  },
  {
   "cell_type": "code",
   "execution_count": 1,
   "id": "45171051",
   "metadata": {},
   "outputs": [],
   "source": [
    "import numpy as np"
   ]
  },
  {
   "cell_type": "markdown",
   "id": "282cd569",
   "metadata": {},
   "source": [
    "## variable sbgai array\n",
    "![variable](variable.png)"
   ]
  },
  {
   "cell_type": "code",
   "execution_count": 14,
   "id": "46a4b5e0",
   "metadata": {},
   "outputs": [],
   "source": [
    "nama = np.array(['hazirah','balqis','arissa','batrisyia', 'ayman'])\n",
    "umur = np.array([25,11,10,14,16])\n",
    "bulan = np.array([10,4,12,7,11])"
   ]
  },
  {
   "cell_type": "code",
   "execution_count": 5,
   "id": "dde27bac",
   "metadata": {},
   "outputs": [
    {
     "data": {
      "text/plain": [
       "array([25, 11, 10, 14, 16])"
      ]
     },
     "execution_count": 5,
     "metadata": {},
     "output_type": "execute_result"
    }
   ],
   "source": [
    "umur"
   ]
  },
  {
   "cell_type": "code",
   "execution_count": 6,
   "id": "f9e78542",
   "metadata": {},
   "outputs": [
    {
     "data": {
      "text/plain": [
       "11"
      ]
     },
     "execution_count": 6,
     "metadata": {},
     "output_type": "execute_result"
    }
   ],
   "source": [
    "umur[1]"
   ]
  },
  {
   "cell_type": "code",
   "execution_count": 7,
   "id": "6a76f289",
   "metadata": {},
   "outputs": [
    {
     "data": {
      "text/plain": [
       "'balqis'"
      ]
     },
     "execution_count": 7,
     "metadata": {},
     "output_type": "execute_result"
    }
   ],
   "source": [
    "nama[1]"
   ]
  },
  {
   "cell_type": "code",
   "execution_count": 8,
   "id": "7b46b42e",
   "metadata": {},
   "outputs": [
    {
     "data": {
      "text/plain": [
       "12"
      ]
     },
     "execution_count": 8,
     "metadata": {},
     "output_type": "execute_result"
    }
   ],
   "source": [
    "bulan[2]"
   ]
  },
  {
   "cell_type": "markdown",
   "id": "f04eee0e",
   "metadata": {},
   "source": [
    "## 1. operasi matematik"
   ]
  },
  {
   "cell_type": "code",
   "execution_count": 9,
   "id": "64e55f3c",
   "metadata": {},
   "outputs": [
    {
     "data": {
      "text/plain": [
       "array([35, 15, 22, 21, 27])"
      ]
     },
     "execution_count": 9,
     "metadata": {},
     "output_type": "execute_result"
    }
   ],
   "source": [
    "bulan+umur # yg biasa"
   ]
  },
  {
   "cell_type": "code",
   "execution_count": 10,
   "id": "c502de71",
   "metadata": {},
   "outputs": [
    {
     "data": {
      "text/plain": [
       "array([35, 15, 22, 21, 27])"
      ]
     },
     "execution_count": 10,
     "metadata": {},
     "output_type": "execute_result"
    }
   ],
   "source": [
    "np.add(bulan,umur) # guna numpy"
   ]
  },
  {
   "cell_type": "code",
   "execution_count": 11,
   "id": "e6c22f5b",
   "metadata": {},
   "outputs": [
    {
     "data": {
      "text/plain": [
       "array([250,  44, 120,  98, 176])"
      ]
     },
     "execution_count": 11,
     "metadata": {},
     "output_type": "execute_result"
    }
   ],
   "source": [
    "bulan*umur # darab"
   ]
  },
  {
   "cell_type": "code",
   "execution_count": 13,
   "id": "b670d921",
   "metadata": {},
   "outputs": [
    {
     "data": {
      "text/plain": [
       "array([250,  44, 120,  98, 176])"
      ]
     },
     "execution_count": 13,
     "metadata": {},
     "output_type": "execute_result"
    }
   ],
   "source": [
    "np.multiply(bulan,umur, umur)"
   ]
  },
  {
   "cell_type": "markdown",
   "id": "70f7febb",
   "metadata": {},
   "source": [
    "## 2. fungsi"
   ]
  },
  {
   "cell_type": "code",
   "execution_count": 16,
   "id": "a58f6066",
   "metadata": {},
   "outputs": [
    {
     "data": {
      "text/plain": [
       "15.2"
      ]
     },
     "execution_count": 16,
     "metadata": {},
     "output_type": "execute_result"
    }
   ],
   "source": [
    "#umur.mean() # mean cara 1\n",
    "np.mean(umur) # mean cara 2"
   ]
  },
  {
   "cell_type": "code",
   "execution_count": 17,
   "id": "e605164b",
   "metadata": {},
   "outputs": [
    {
     "data": {
      "text/plain": [
       "10"
      ]
     },
     "execution_count": 17,
     "metadata": {},
     "output_type": "execute_result"
    }
   ],
   "source": [
    "#umur.min()\n",
    "np.min(umur)"
   ]
  },
  {
   "cell_type": "code",
   "execution_count": 18,
   "id": "c6bbdb94",
   "metadata": {},
   "outputs": [
    {
     "data": {
      "text/plain": [
       "25"
      ]
     },
     "execution_count": 18,
     "metadata": {},
     "output_type": "execute_result"
    }
   ],
   "source": [
    "np.max(umur)"
   ]
  },
  {
   "cell_type": "code",
   "execution_count": 19,
   "id": "9230bc88",
   "metadata": {},
   "outputs": [
    {
     "data": {
      "text/plain": [
       "14.0"
      ]
     },
     "execution_count": 19,
     "metadata": {},
     "output_type": "execute_result"
    }
   ],
   "source": [
    "np.median(umur) #median"
   ]
  },
  {
   "cell_type": "code",
   "execution_count": null,
   "id": "6bc5941a",
   "metadata": {},
   "outputs": [],
   "source": [
    "10,11,14,16,25"
   ]
  },
  {
   "cell_type": "code",
   "execution_count": 20,
   "id": "6bd31137",
   "metadata": {},
   "outputs": [
    {
     "data": {
      "text/plain": [
       "14.5"
      ]
     },
     "execution_count": 20,
     "metadata": {},
     "output_type": "execute_result"
    }
   ],
   "source": [
    "(14+15)/2"
   ]
  },
  {
   "cell_type": "code",
   "execution_count": 21,
   "id": "52ddb8a0",
   "metadata": {
    "scrolled": true
   },
   "outputs": [
    {
     "data": {
      "text/plain": [
       "14.5"
      ]
     },
     "execution_count": 21,
     "metadata": {},
     "output_type": "execute_result"
    }
   ],
   "source": [
    "this = np.array([10,11, 14, 15, 16, 25])\n",
    "np.median(this)"
   ]
  },
  {
   "cell_type": "markdown",
   "id": "686e3784",
   "metadata": {},
   "source": [
    "## 3. numpy utk constant. cth pi"
   ]
  },
  {
   "cell_type": "code",
   "execution_count": 22,
   "id": "73e88d51",
   "metadata": {},
   "outputs": [
    {
     "data": {
      "text/plain": [
       "3.141592653589793"
      ]
     },
     "execution_count": 22,
     "metadata": {},
     "output_type": "execute_result"
    }
   ],
   "source": [
    "np.pi # np.sin np.cos"
   ]
  },
  {
   "cell_type": "code",
   "execution_count": null,
   "id": "eccfcf9b",
   "metadata": {},
   "outputs": [],
   "source": []
  }
 ],
 "metadata": {
  "kernelspec": {
   "display_name": "Python 3 (ipykernel)",
   "language": "python",
   "name": "python3"
  },
  "language_info": {
   "codemirror_mode": {
    "name": "ipython",
    "version": 3
   },
   "file_extension": ".py",
   "mimetype": "text/x-python",
   "name": "python",
   "nbconvert_exporter": "python",
   "pygments_lexer": "ipython3",
   "version": "3.8.8"
  }
 },
 "nbformat": 4,
 "nbformat_minor": 5
}
